{
  "cells": [
    {
      "cell_type": "code",
      "execution_count": 4,
      "metadata": {
        "colab": {
          "base_uri": "https://localhost:8080/"
        },
        "id": "UFU2MSi9slF5",
        "outputId": "4728a436-87b4-4154-dd33-b36247155f46"
      },
      "outputs": [
        {
          "output_type": "stream",
          "name": "stdout",
          "text": [
            "Requirement already satisfied: hazm in /usr/local/lib/python3.10/dist-packages (0.10.0)\n",
            "Requirement already satisfied: fasttext-wheel<0.10.0,>=0.9.2 in /usr/local/lib/python3.10/dist-packages (from hazm) (0.9.2)\n",
            "Requirement already satisfied: flashtext<3.0,>=2.7 in /usr/local/lib/python3.10/dist-packages (from hazm) (2.7)\n",
            "Requirement already satisfied: gensim<5.0.0,>=4.3.1 in /usr/local/lib/python3.10/dist-packages (from hazm) (4.3.2)\n",
            "Requirement already satisfied: nltk<4.0.0,>=3.8.1 in /usr/local/lib/python3.10/dist-packages (from hazm) (3.8.1)\n",
            "Requirement already satisfied: numpy==1.24.3 in /usr/local/lib/python3.10/dist-packages (from hazm) (1.24.3)\n",
            "Requirement already satisfied: python-crfsuite<0.10.0,>=0.9.9 in /usr/local/lib/python3.10/dist-packages (from hazm) (0.9.10)\n",
            "Requirement already satisfied: scikit-learn<2.0.0,>=1.2.2 in /usr/local/lib/python3.10/dist-packages (from hazm) (1.2.2)\n",
            "Requirement already satisfied: pybind11>=2.2 in /usr/local/lib/python3.10/dist-packages (from fasttext-wheel<0.10.0,>=0.9.2->hazm) (2.13.1)\n",
            "Requirement already satisfied: setuptools>=0.7.0 in /usr/local/lib/python3.10/dist-packages (from fasttext-wheel<0.10.0,>=0.9.2->hazm) (67.7.2)\n",
            "Requirement already satisfied: scipy>=1.7.0 in /usr/local/lib/python3.10/dist-packages (from gensim<5.0.0,>=4.3.1->hazm) (1.11.4)\n",
            "Requirement already satisfied: smart-open>=1.8.1 in /usr/local/lib/python3.10/dist-packages (from gensim<5.0.0,>=4.3.1->hazm) (7.0.4)\n",
            "Requirement already satisfied: click in /usr/local/lib/python3.10/dist-packages (from nltk<4.0.0,>=3.8.1->hazm) (8.1.7)\n",
            "Requirement already satisfied: joblib in /usr/local/lib/python3.10/dist-packages (from nltk<4.0.0,>=3.8.1->hazm) (1.4.2)\n",
            "Requirement already satisfied: regex>=2021.8.3 in /usr/local/lib/python3.10/dist-packages (from nltk<4.0.0,>=3.8.1->hazm) (2024.5.15)\n",
            "Requirement already satisfied: tqdm in /usr/local/lib/python3.10/dist-packages (from nltk<4.0.0,>=3.8.1->hazm) (4.66.4)\n",
            "Requirement already satisfied: threadpoolctl>=2.0.0 in /usr/local/lib/python3.10/dist-packages (from scikit-learn<2.0.0,>=1.2.2->hazm) (3.5.0)\n",
            "Requirement already satisfied: wrapt in /usr/local/lib/python3.10/dist-packages (from smart-open>=1.8.1->gensim<5.0.0,>=4.3.1->hazm) (1.14.1)\n"
          ]
        }
      ],
      "source": [
        "pip install hazm"
      ]
    },
    {
      "cell_type": "code",
      "execution_count": 5,
      "metadata": {
        "id": "3f69Oq7_NzW0"
      },
      "outputs": [],
      "source": [
        "import pandas as pd\n",
        "import tensorflow as tf\n",
        "from hazm import *\n",
        "import re\n",
        "from sklearn.feature_extraction.text import TfidfVectorizer\n",
        "from sklearn.feature_extraction.text import CountVectorizer\n",
        "from sklearn.preprocessing import LabelEncoder\n",
        "from sklearn.model_selection import train_test_split\n",
        "from sklearn.model_selection import GridSearchCV\n",
        "from sklearn.multiclass import OneVsRestClassifier\n",
        "from sklearn.svm import SVC\n",
        "from sklearn.linear_model import LogisticRegression\n",
        "from sklearn.naive_bayes import GaussianNB,MultinomialNB,BernoulliNB\n",
        "from sklearn.ensemble import RandomForestClassifier\n",
        "from sklearn.tree import DecisionTreeClassifier\n",
        "from sklearn.neighbors import KNeighborsClassifier\n",
        "from sklearn.metrics import classification_report\n",
        "from sklearn.metrics import accuracy_score\n",
        "from sklearn.metrics import precision_recall_fscore_support as score"
      ]
    },
    {
      "cell_type": "code",
      "execution_count": 6,
      "metadata": {
        "colab": {
          "base_uri": "https://localhost:8080/"
        },
        "id": "kPqk-RObBNnM",
        "outputId": "4c8b58dd-0879-4b1e-969d-5992c3a9ebf4"
      },
      "outputs": [
        {
          "output_type": "stream",
          "name": "stdout",
          "text": [
            "                                               title  \\\n",
            "0  روایتی از تحصیل زیرسقف‌های لرزان و سرمای سوزان...   \n",
            "1  انقلابی سرشناس بحرین در گفت‌وگو با تسنیم: مردم...   \n",
            "2  ‌زندگی مردم در شهر قم ‌جریان دارد / پیشگیری در...   \n",
            "3  واکنش &quot;پروفسور کرمی&quot; به دروغ‌پراکنی ...   \n",
            "4  مردم نگران تأمین کالاهای موردنیاز خود نباشند/ ...   \n",
            "\n",
            "                                         description     tags  \n",
            "0  گروه استان‌ها- دانش‌آموزان مدرسه روستای کَهنان...  استانها  \n",
            "1  گروه استان‌ها ــ انقلابی سرشناس بحرین با بیان ...  استانها  \n",
            "2  گروه استان‌ها ــ با اعلام شیوع ویروس کرونا در ...  استانها  \n",
            "3  یک متخصص بیوتکنولوژی پزشکی با بیان اینکه مرگ‌و...  اجتماعی  \n",
            "4  رئیس اتحادیه فروشگاه‌های زنجیره‌ای با اشاره به...  اقتصادی  \n"
          ]
        }
      ],
      "source": [
        "train_df = pd.read_csv('/content/drive/MyDrive/AI_4022/data/train_data.csv')\n",
        "print(train_df.head())"
      ]
    },
    {
      "cell_type": "code",
      "execution_count": 7,
      "metadata": {
        "id": "wD3ZDyT_Bfen",
        "colab": {
          "base_uri": "https://localhost:8080/"
        },
        "outputId": "d8204717-24bd-4dc4-d155-2775439cd8fc"
      },
      "outputs": [
        {
          "output_type": "stream",
          "name": "stdout",
          "text": [
            "                                                    title  \\\n",
            "count                                               12457   \n",
            "unique                                              12449   \n",
            "top     عراقچی برای شرکت در نشست کمیسیون مشترک برجام و...   \n",
            "freq                                                    2   \n",
            "\n",
            "                                              description     tags  \n",
            "count                                               12457    12455  \n",
            "unique                                              12324      100  \n",
            "top     گروه استان‌ها ــ این روزها همه‌جا صحبت از جولا...  بایگانی  \n",
            "freq                                                    3     1944  \n"
          ]
        }
      ],
      "source": [
        "print(train_df.describe())"
      ]
    },
    {
      "cell_type": "code",
      "execution_count": 8,
      "metadata": {
        "id": "HJ4Yfdq5GQtM",
        "colab": {
          "base_uri": "https://localhost:8080/"
        },
        "outputId": "4b194c47-b8f5-4021-e694-4942d0bee98b"
      },
      "outputs": [
        {
          "output_type": "stream",
          "name": "stdout",
          "text": [
            "                                                   title  \\\n",
            "count                                              12455   \n",
            "unique                                             12447   \n",
            "top     نخست وزیر پیشین فرانسه به پنج سال زندان محکوم شد   \n",
            "freq                                                   2   \n",
            "\n",
            "                                              description     tags  \n",
            "count                                               12455    12455  \n",
            "unique                                              12322      100  \n",
            "top     رییس‌جمهور گفت: امسال سال سختی است؛ هم با ویرو...  بایگانی  \n",
            "freq                                                    3     1944  \n"
          ]
        }
      ],
      "source": [
        "train_df.dropna(inplace=True)\n",
        "print(train_df.describe())"
      ]
    },
    {
      "cell_type": "code",
      "execution_count": 9,
      "metadata": {
        "id": "uFnxiAhjFFEK",
        "colab": {
          "base_uri": "https://localhost:8080/"
        },
        "outputId": "8fa6badc-bef1-407f-99df-4b29fe9f00d9"
      },
      "outputs": [
        {
          "output_type": "stream",
          "name": "stdout",
          "text": [
            "['استانها' 'اجتماعی' 'اقتصادی' 'سیاسی' 'فرهنگی' 'بین الملل' 'ورزشی'\n",
            " 'رسانه ها' 'بازار' 'الشرق الأوسط' 'دانش و محیط زیست' 'جهان' 'ایران'\n",
            " 'NRS-Import' 'فرهنگ و هنر' 'آلمان' 'دیدگاه' 'دوره\\u200cهای زبان آلمانی'\n",
            " 'ورزش' 'اقتصاد' 'گوناگون' 'شبکه\\u200cهای اجتماعی' 'دویچه وله'\n",
            " 'Community D' 'آلمانی پیش\\u200cرفته' 'ویدئو > گزارش' 'استان ها > مرکزی'\n",
            " 'استان ها > قم' 'علمی و دانشگاهی > صنفی، فرهنگی'\n",
            " 'اقتصادی > عمران و اشتغال' 'اقتصادی > تولید و تجارت' 'اجتماعی > سلامت'\n",
            " 'اجتماعی > آموزش و پرورش' 'سیاسی > دولت'\n",
            " 'فرهنگی و هنری > گردشگری و میراث' 'اقتصادی > اقتصاد کلان'\n",
            " 'ورزشی > فوتبال، فوتسال' 'سیاسی > سیاست خارجی' 'اجتماعی > حوادث، انتظامی'\n",
            " 'سیاسی > مجلس' 'اجتماعی > محیط زیست' 'سیاسی > اندیشه امام و رهبری'\n",
            " 'اجتماعی > خانواده' 'سیاسی > حقوقی و قضایی' 'سیاسی > سیاست داخلی'\n",
            " 'استان ها > لرستان' 'علمی و دانشگاهی > علم و فناوری ایران'\n",
            " 'استان ها > گیلان' 'اجتماعی > جامعه، شهری' 'سیاسی > دفاعی - امنيتی'\n",
            " 'علمی و دانشگاهی > پژوهش' 'گرافیک > اینفوگرافیک' 'استان ها > خوزستان'\n",
            " 'اقتصادی > انرژی' 'فرهنگی و هنری > سینما و تئاتر' 'استان ها > سمنان'\n",
            " 'استان ها > خراسان رضوی' 'سیاسی > انرژی هسته\\u200e\\u200cای'\n",
            " 'علمی و دانشگاهی > علم و فناوری جهان' 'استان ها > البرز'\n",
            " 'استان ها > تهران' 'علمی و دانشگاهی > جهاد دانشگاهی'\n",
            " 'ورزشی > سایر ورزش\\u200cها' 'استان ها > هرمزگان'\n",
            " 'اقتصادی > ارتباطات و فناوری اطلاعات' 'علمی و دانشگاهی > آموزش'\n",
            " 'ورزشی > کشتی، رزمی' 'بین الملل > فرامنطقه ای'\n",
            " 'بین الملل > آسیا،خاورمیانه' 'استان ها > اصفهان'\n",
            " 'استان ها > چهارمحال و بختیاری' 'فرهنگی و هنری > تجسمی و موسیقی'\n",
            " 'فرهنگی و هنری > دین و اندیشه' 'فرهنگی و هنری > ادبیات و کتاب'\n",
            " 'استان ها > بوشهر' 'فرهنگی و هنری > فرهنگ حماسه' 'فرهنگی و هنری > رسانه'\n",
            " 'استان ها > سیستان و بلوچستان' 'ورزشی > توپ و تور'\n",
            " 'استان ها > کهگیلویه و بویراحمد' 'استان ها > کرمانشاه'\n",
            " 'استان ها > مازندران' 'استان ها > ایلام' 'استان ها > زنجان'\n",
            " 'ورزشی > جهان ورزش' 'استان ها > کرمان' 'استان ها > یزد'\n",
            " 'استان ها > اردبیل' 'ورزشی > ورزش بانوان' 'استان ها > خراسان جنوبی'\n",
            " 'بین الملل > فلسطین' 'ایسنا+ > ایسنا+' 'استان ها > فارس'\n",
            " 'استان ها > گلستان' 'عکس > خبری' 'بایگانی' 'ايران' 'اقتصاد ایران'\n",
            " 'خبرخوان' 'دانش و فناوری']\n",
            "100\n"
          ]
        }
      ],
      "source": [
        "print(train_df['tags'].unique())\n",
        "print(len(train_df['tags'].unique()))"
      ]
    },
    {
      "cell_type": "code",
      "execution_count": 10,
      "metadata": {
        "id": "osc9faqfFYwd",
        "colab": {
          "base_uri": "https://localhost:8080/"
        },
        "outputId": "cb79db60-6101-47e8-dd0b-504dbd385d46"
      },
      "outputs": [
        {
          "output_type": "stream",
          "name": "stdout",
          "text": [
            "['استان' 'اجتماعی' 'اقتصاد' 'سیاسی' 'بین الملل' 'ورزش' 'دیدگاه' 'گوناگون'\n",
            " 'بایگانی' 'خبرخوان']\n",
            "10\n",
            "                                                   title  \\\n",
            "count                                              12455   \n",
            "unique                                             12447   \n",
            "top     نخست وزیر پیشین فرانسه به پنج سال زندان محکوم شد   \n",
            "freq                                                   2   \n",
            "\n",
            "                                              description   tags  \n",
            "count                                               12455  12455  \n",
            "unique                                              12322     10  \n",
            "top     رییس‌جمهور گفت: امسال سال سختی است؛ هم با ویرو...  سیاسی  \n",
            "freq                                                    3   3905  \n",
            "        tags  title  description\n",
            "0    اجتماعی   1619         1619\n",
            "1      استان    585          585\n",
            "2     اقتصاد    916          916\n",
            "3    بایگانی   1944         1944\n",
            "4  بین الملل   3284         3284\n",
            "5    خبرخوان     20           20\n",
            "6     دیدگاه     31           31\n",
            "7      سیاسی   3905         3905\n",
            "8       ورزش    149          149\n",
            "9    گوناگون      2            2\n"
          ]
        }
      ],
      "source": [
        "# limit 'tags' column value\n",
        "main_tags = ['اجتماعی', 'اقتصاد', 'استان', 'بین الملل', 'سیاسی', 'ورزش']\n",
        "\n",
        "for tag in main_tags:\n",
        "  train_df.loc[train_df['tags'].str.contains(tag), 'tags'] = tag\n",
        "\n",
        "train_df.loc[train_df['tags'].str.contains('علم|فرهنگ'), 'tags'] = 'اجتماعی'\n",
        "train_df.loc[train_df['tags'].str.contains('بازار'), 'tags'] = 'اقتصاد'\n",
        "train_df.loc[train_df['tags'].str.contains('ايران|آلمان|جهان|[a-z, A-z]'), 'tags'] = 'بین الملل'\n",
        "train_df.loc[train_df['tags'].str.contains('ایران'), 'tags'] = 'سیاسی'\n",
        "\n",
        "print(train_df['tags'].unique())\n",
        "print(len(train_df['tags'].unique()))\n",
        "print(train_df.describe())\n",
        "print(train_df.groupby(['tags'], as_index=False).count())"
      ]
    },
    {
      "cell_type": "code",
      "execution_count": 11,
      "metadata": {
        "id": "QvCowJ-JY_Gv",
        "colab": {
          "base_uri": "https://localhost:8080/"
        },
        "outputId": "a4982b6f-825c-404f-a739-e99767fd917a"
      },
      "outputs": [
        {
          "output_type": "stream",
          "name": "stdout",
          "text": [
            "                                                   title  \\\n",
            "9763   شرکت هواپیمایی ترکیه پروازهایش به چهار شهر ایر...   \n",
            "9764   ادامه کشمکش لفظی بین وزارت بهداشت و نماینده مج...   \n",
            "9766   شمخانی نماینده قم را به دلیل سخنانش درباره کرو...   \n",
            "9767   وزیر دادگستری مامور پیگیری اتهامات نیلوفر بیان...   \n",
            "9768   دادگاه جدید پرونده ۱۶ هزار میلیارد تومانی گروه...   \n",
            "...                                                  ...   \n",
            "12450   جدایی‌طلبان یمن از طرح خودمختاری عقب‌نشینی کردند   \n",
            "12451  «بازداشت ۴۰ نفر» در ارتباط با آتش‌سوزی جنگل‌ها...   \n",
            "12454  روسیه: ابراز نگرانی لاوروف و ظریف درباره حضور ...   \n",
            "12455                     وزیر خارجه ایران وارد بیروت شد   \n",
            "12456         هوشنگ ظریف، استاد موسیقی سنتی ایران درگذشت   \n",
            "\n",
            "                                             description     tags  \n",
            "9763   در پی شیوع ویروس کرونا در ایران شرکت هواپیمایی...  بایگانی  \n",
            "9764   کشمکش لفظی بین معاون وزارت بهداشت و نماینده قم...  بایگانی  \n",
            "9766   علی شمخانی، دبیر شورای عالی امنیت ملی ایران، خ...  بایگانی  \n",
            "9767   علیرضا آوایی، وزیر دادگستری ایران، از سوی هیئت...  بایگانی  \n",
            "9768   رسیدگی به پرونده ١۶ هزار میلیارد تومانی عباس ا...  بایگانی  \n",
            "...                                                  ...      ...  \n",
            "12450  سه ماه بعد از اعلام خودمختاری جدایی‌طلبان یمن،...  بایگانی  \n",
            "12451  فرمانده یگان حفاظت سازمان جنگل‌ها، مراتع و آبخ...  بایگانی  \n",
            "12454  وزارت خارجه روسیه اعلام کرد که سرگئی لاوروف  و...  بایگانی  \n",
            "12455  در حالی که اعتراضات مردمی در لبنان در پی انفجا...  بایگانی  \n",
            "12456  هوشنگ ظریف،  استاد برجسته تار روز شنبه ۱۷ اسفن...  بایگانی  \n",
            "\n",
            "[1944 rows x 3 columns]\n"
          ]
        }
      ],
      "source": [
        "print(train_df[train_df['tags'] == 'بایگانی'])"
      ]
    },
    {
      "cell_type": "code",
      "execution_count": 12,
      "metadata": {
        "id": "Y3oOAYltfM9Y",
        "colab": {
          "base_uri": "https://localhost:8080/"
        },
        "outputId": "e404d28f-6f92-498f-dc97-e0c6b3263502"
      },
      "outputs": [
        {
          "output_type": "stream",
          "name": "stdout",
          "text": [
            "['استان' 'اجتماعی' 'اقتصاد' 'سیاسی' 'بین الملل' 'ورزش']\n",
            "6\n",
            "                                                    title description   tags\n",
            "count                                               10458       10458  10458\n",
            "unique                                              10452       10326      6\n",
            "top     دستور رئیس جمهور برای ساماندهی و رسیدگی سریع ب...        . \\n  سیاسی\n",
            "freq                                                    2           3   3905\n",
            "                                               title  \\\n",
            "0  روایتی از تحصیل زیرسقف‌های لرزان و سرمای سوزان...   \n",
            "1  انقلابی سرشناس بحرین در گفت‌وگو با تسنیم: مردم...   \n",
            "2  ‌زندگی مردم در شهر قم ‌جریان دارد / پیشگیری در...   \n",
            "3  واکنش &quot;پروفسور کرمی&quot; به دروغ‌پراکنی ...   \n",
            "4  مردم نگران تأمین کالاهای موردنیاز خود نباشند/ ...   \n",
            "\n",
            "                                         description     tags  \n",
            "0  گروه استان‌ها- دانش‌آموزان مدرسه روستای کَهنان...    استان  \n",
            "1  گروه استان‌ها ــ انقلابی سرشناس بحرین با بیان ...    استان  \n",
            "2  گروه استان‌ها ــ با اعلام شیوع ویروس کرونا در ...    استان  \n",
            "3  یک متخصص بیوتکنولوژی پزشکی با بیان اینکه مرگ‌و...  اجتماعی  \n",
            "4  رئیس اتحادیه فروشگاه‌های زنجیره‌ای با اشاره به...   اقتصاد  \n",
            "        tags  title  description\n",
            "0    اجتماعی   1619         1619\n",
            "1      استان    585          585\n",
            "2     اقتصاد    916          916\n",
            "3  بین الملل   3284         3284\n",
            "4      سیاسی   3905         3905\n",
            "5       ورزش    149          149\n"
          ]
        }
      ],
      "source": [
        "# ignore datas which are not in specified categories\n",
        "train_df = train_df[train_df['tags'].isin(main_tags)]\n",
        "\n",
        "print(train_df['tags'].unique())\n",
        "print(len(train_df['tags'].unique()))\n",
        "print(train_df.describe())\n",
        "print(train_df.head())\n",
        "print(train_df.groupby(['tags'], as_index=False).count())"
      ]
    },
    {
      "cell_type": "code",
      "execution_count": 13,
      "metadata": {
        "id": "CeqCFzDqbxd_",
        "colab": {
          "base_uri": "https://localhost:8080/"
        },
        "outputId": "d31c68e6-d328-4bd4-d3da-bf5f99a10374"
      },
      "outputs": [
        {
          "output_type": "stream",
          "name": "stdout",
          "text": [
            "{'اجتماعی': 0, 'اقتصاد': 1, 'استان': 2, 'بین الملل': 3, 'سیاسی': 4, 'ورزش': 5}\n"
          ]
        }
      ],
      "source": [
        "# map each cat to a number\n",
        "categories = dict([(x, i) for i, x in enumerate(main_tags)])\n",
        "print(categories)"
      ]
    },
    {
      "cell_type": "code",
      "execution_count": 14,
      "metadata": {
        "id": "ORd2Heb-d3J0",
        "colab": {
          "base_uri": "https://localhost:8080/"
        },
        "outputId": "68e775c3-75f9-4077-bce1-33f07c4fadac"
      },
      "outputs": [
        {
          "output_type": "stream",
          "name": "stdout",
          "text": [
            "[2 0 1 4 3 5]\n",
            "                                               title  \\\n",
            "0  روایتی از تحصیل زیرسقف‌های لرزان و سرمای سوزان...   \n",
            "1  انقلابی سرشناس بحرین در گفت‌وگو با تسنیم: مردم...   \n",
            "2  ‌زندگی مردم در شهر قم ‌جریان دارد / پیشگیری در...   \n",
            "3  واکنش &quot;پروفسور کرمی&quot; به دروغ‌پراکنی ...   \n",
            "4  مردم نگران تأمین کالاهای موردنیاز خود نباشند/ ...   \n",
            "\n",
            "                                         description  tags  \n",
            "0  گروه استان‌ها- دانش‌آموزان مدرسه روستای کَهنان...     2  \n",
            "1  گروه استان‌ها ــ انقلابی سرشناس بحرین با بیان ...     2  \n",
            "2  گروه استان‌ها ــ با اعلام شیوع ویروس کرونا در ...     2  \n",
            "3  یک متخصص بیوتکنولوژی پزشکی با بیان اینکه مرگ‌و...     0  \n",
            "4  رئیس اتحادیه فروشگاه‌های زنجیره‌ای با اشاره به...     1  \n"
          ]
        },
        {
          "output_type": "stream",
          "name": "stderr",
          "text": [
            "<ipython-input-14-d9704b7357ef>:2: SettingWithCopyWarning: \n",
            "A value is trying to be set on a copy of a slice from a DataFrame.\n",
            "Try using .loc[row_indexer,col_indexer] = value instead\n",
            "\n",
            "See the caveats in the documentation: https://pandas.pydata.org/pandas-docs/stable/user_guide/indexing.html#returning-a-view-versus-a-copy\n",
            "  train_df['tags'] = train_df['tags'].replace(categories)\n"
          ]
        }
      ],
      "source": [
        "# make categories numerical\n",
        "train_df['tags'] = train_df['tags'].replace(categories)\n",
        "print(train_df['tags'].unique())\n",
        "print(train_df.head())"
      ]
    },
    {
      "cell_type": "code",
      "execution_count": 15,
      "metadata": {
        "id": "VFlwYVLD4tTA",
        "colab": {
          "base_uri": "https://localhost:8080/"
        },
        "outputId": "37b338c0-3c80-4882-fd96-8accd1b19ffc"
      },
      "outputs": [
        {
          "output_type": "stream",
          "name": "stdout",
          "text": [
            "                                               title  \\\n",
            "0  روایت تحصیل زیرسقف لرز سرما سوز ؛ دانش‌آموز که...   \n",
            "1  انقلاب سرشناس بحرین گفت‌وگو تسن مرد منطقه پیشر...   \n",
            "2         زندگ مرد شهر ق پیشگیر اولو مرد قرار تصاویر   \n",
            "3   واکن پروفسور کرم دروغ‌پراکن رسانه القا ترس کرونا   \n",
            "4  مرد نگر تأمین کالا موردنیاز باشید#باش میز تولی...   \n",
            "\n",
            "                                         description  tags  \n",
            "0  گروه استان دانش‌آموز مدرسه روستا کهنانیک بلوچس...     2  \n",
            "1  گروه استان انقلاب سرشناس بحرین مرد منطقه پیشرف...     2  \n",
            "2  گروه استان اعلا شیوع ویروس کرونا شهر ق زندگ عا...     2  \n",
            "3  متخصص بیوتکنولوژ پزشک مرگ‌و‌میر حاصل کرونا به‌...     0  \n",
            "4  رئیس اتحادیه فروشگاه زنجیره اشاره خرید اندازه ...     1  \n"
          ]
        }
      ],
      "source": [
        "normalizer = Normalizer()\n",
        "stemmer = Stemmer()\n",
        "stop_words = stopwords_list()\n",
        "lemmatizer = Lemmatizer()\n",
        "\n",
        "def preprocess(text):\n",
        "    # remove links, signs, english alphabet, and numbers\n",
        "    text = re.sub(r'https?:\\/\\/.*[\\r\\n]*', '', text)\n",
        "    text = re.sub(r'[\\:|\\-|\\&|\\;|\\#|\\.|\\+|\\/|0-9|quot]','',text)\n",
        "\n",
        "    # Normalize the text\n",
        "    text = normalizer.correct_spacing(text)\n",
        "    text = normalizer.remove_specials_chars(text)\n",
        "    text = normalizer.normalize(text)\n",
        "\n",
        "    # Tokenize the text\n",
        "    words = word_tokenize(text)\n",
        "    # with hazm\n",
        "    # tokenizer = WordTokenizer()\n",
        "    # words = tokenizer.tokenize(text)\n",
        "\n",
        "    # Remove stopwords and stem the words\n",
        "    words = [stemmer.stem(word) for word in words if word not in stop_words]\n",
        "    words = [lemmatizer.lemmatize(word) for word in words if word not in stop_words]\n",
        "\n",
        "    return ' '.join(words)\n",
        "\n",
        "train_df['title'] = train_df['title'].apply(preprocess)\n",
        "train_df['description'] = train_df['description'].apply(preprocess)\n",
        "print(train_df.head())"
      ]
    },
    {
      "cell_type": "code",
      "execution_count": 16,
      "metadata": {
        "id": "KjKWBE4VcCNg",
        "colab": {
          "base_uri": "https://localhost:8080/"
        },
        "outputId": "f5e96a6d-78c2-46b2-b5c6-ff90a7ed51ab"
      },
      "outputs": [
        {
          "output_type": "stream",
          "name": "stdout",
          "text": [
            "                                                   title  \\\n",
            "0      روایت تحصیل زیرسقف لرز سرما سوز ؛ دانش‌آموز که...   \n",
            "1      انقلاب سرشناس بحرین گفت‌وگو تسن مرد منطقه پیشر...   \n",
            "2             زندگ مرد شهر ق پیشگیر اولو مرد قرار تصاویر   \n",
            "3       واکن پروفسور کرم دروغ‌پراکن رسانه القا ترس کرونا   \n",
            "4      مرد نگر تأمین کالا موردنیاز باشید#باش میز تولی...   \n",
            "...                                                  ...   \n",
            "12422          قاض آمریکا فر حذف پیام‌رس چین « چ » متوقف   \n",
            "12441  واکن فرماندار کرمانشاه ویدئو آزار دخ خاطر حجاب...   \n",
            "12447        دادستان خراس رضو دوچرخه‌سوار زن ممنوع نکرده   \n",
            "12452                  علیرضا زاکان رئیس مرکز پژوهش مجلس   \n",
            "12453  قوه قضائیه تقاضا فرجا پرونده روح‌الله ز دیو رف...   \n",
            "\n",
            "                                             description  tags  \n",
            "0      گروه استان دانش‌آموز مدرسه روستا کهنانیک بلوچس...     2  \n",
            "1      گروه استان انقلاب سرشناس بحرین مرد منطقه پیشرف...     2  \n",
            "2      گروه استان اعلا شیوع ویروس کرونا شهر ق زندگ عا...     2  \n",
            "3      متخصص بیوتکنولوژ پزشک مرگ‌و‌میر حاصل کرونا به‌...     0  \n",
            "4      رئیس اتحادیه فروشگاه زنجیره اشاره خرید اندازه ...     1  \n",
            "...                                                  ...   ...  \n",
            "12422  حالی‌که قرار مسدود به‌روز رسان دانلود نسخه پیا...     3  \n",
            "12441  روز انتشار ویدئو صفح مسیح علینژاد حمله مرد دخ ...     4  \n",
            "12447  دادس عموم انقلاب مرکز اس خراس رضو صدور دستور ق...     0  \n",
            "12452  نوشته وبسا « خانه مل » ، هیأ رئیسه مجلس یازده ...     4  \n",
            "12453  سخنگو قوه قضائیه جمهور اسلام وضع پرونده روح‌ال...     4  \n",
            "\n",
            "[10458 rows x 3 columns]\n"
          ]
        }
      ],
      "source": [
        "print(train_df)"
      ]
    },
    {
      "cell_type": "code",
      "execution_count": 17,
      "metadata": {
        "id": "bNC3JICkQqgy"
      },
      "outputs": [],
      "source": [
        "# normalizer = Normalizer()\n",
        "# def normal(text):\n",
        "#   text = normalizer.normalize(text)\n",
        "#   return text\n",
        "\n",
        "# train_df['title'] = train_df['title'].apply(normal)\n",
        "# train_df['description'] = train_df['description'].apply(normal)\n",
        "# train_df.head()"
      ]
    },
    {
      "cell_type": "code",
      "execution_count": 18,
      "metadata": {
        "id": "eCJem9OGe4gh"
      },
      "outputs": [],
      "source": [
        "# stop_words = stopwords_list()\n",
        "# def remove_stopwords(text):\n",
        "#   # words = text.split(' ')\n",
        "#   words = word_tokenize(text)\n",
        "#   words = [word for word in words if word not in stop_words]\n",
        "#   return ' '.join(words)\n",
        "\n",
        "# train_df['title'] = train_df['title'].apply(remove_stopwords)\n",
        "# train_df['description'] = train_df['description'].apply(remove_stopwords)\n",
        "# train_df.head()"
      ]
    },
    {
      "cell_type": "code",
      "execution_count": 19,
      "metadata": {
        "id": "ZRUzzB80uplw"
      },
      "outputs": [],
      "source": [
        "# stemmer = Stemmer()\n",
        "# def stem(text):\n",
        "#   # words = text.split(' ')\n",
        "#   words = word_tokenize(text)\n",
        "#   words = [stemmer.stem(word) for word in words]\n",
        "#   return ' '.join(words)\n",
        "\n",
        "# train_df['title'] = train_df['title'].apply(stem)\n",
        "# train_df['description'] = train_df['description'].apply(stem)\n",
        "# train_df.head()"
      ]
    },
    {
      "cell_type": "code",
      "execution_count": 20,
      "metadata": {
        "id": "-9MN6CuY4Yj6"
      },
      "outputs": [],
      "source": [
        "# lemmatizer = Lemmatizer()\n",
        "# def lemma(text):\n",
        "#   # words = text.split(' ')\n",
        "#   words = word_tokenize(text)\n",
        "#   words = [lemmatizer.lemmatize(word) for word in words]\n",
        "#   return ' '.join(words)\n",
        "\n",
        "# train_df['title'] = train_df['title'].apply(lemma)\n",
        "# train_df['description'] = train_df['description'].apply(lemma)\n",
        "# train_df.head()"
      ]
    },
    {
      "cell_type": "code",
      "execution_count": 21,
      "metadata": {
        "id": "SeDkzr6bOfYs",
        "colab": {
          "base_uri": "https://localhost:8080/"
        },
        "outputId": "ef1581bb-63af-4fca-8426-90ce6e0e7312"
      },
      "outputs": [
        {
          "output_type": "stream",
          "name": "stdout",
          "text": [
            "                                               title  \\\n",
            "0  روایت تحصیل زیرسقف لرز سرما سوز ؛ دانش‌آموز که...   \n",
            "1  انقلاب سرشناس بحرین گفت‌وگو تسن مرد منطقه پیشر...   \n",
            "2         زندگ مرد شهر ق پیشگیر اولو مرد قرار تصاویر   \n",
            "3   واکن پروفسور کرم دروغ‌پراکن رسانه القا ترس کرونا   \n",
            "4  مرد نگر تأمین کالا موردنیاز باشید#باش میز تولی...   \n",
            "\n",
            "                                         description  tags  \\\n",
            "0  گروه استان دانش‌آموز مدرسه روستا کهنانیک بلوچس...     2   \n",
            "1  گروه استان انقلاب سرشناس بحرین مرد منطقه پیشرف...     2   \n",
            "2  گروه استان اعلا شیوع ویروس کرونا شهر ق زندگ عا...     2   \n",
            "3  متخصص بیوتکنولوژ پزشک مرگ‌و‌میر حاصل کرونا به‌...     0   \n",
            "4  رئیس اتحادیه فروشگاه زنجیره اشاره خرید اندازه ...     1   \n",
            "\n",
            "                                                text  \n",
            "0  روایت تحصیل زیرسقف لرز سرما سوز ؛ دانش‌آموز که...  \n",
            "1  انقلاب سرشناس بحرین گفت‌وگو تسن مرد منطقه پیشر...  \n",
            "2  زندگ مرد شهر ق پیشگیر اولو مرد قرار تصاویر زند...  \n",
            "3  واکن پروفسور کرم دروغ‌پراکن رسانه القا ترس کرو...  \n",
            "4  مرد نگر تأمین کالا موردنیاز باشید#باش میز تولی...  \n"
          ]
        }
      ],
      "source": [
        "# title is more important\n",
        "train_df['text'] = train_df['title'] + ' ' + train_df['title'] + ' ' + train_df['description']\n",
        "print(train_df.head())"
      ]
    },
    {
      "cell_type": "code",
      "execution_count": 22,
      "metadata": {
        "id": "7a_9fzB9VMHH"
      },
      "outputs": [],
      "source": [
        "# vectorize the data to be able to work with it\n",
        "vectorizer = TfidfVectorizer()\n",
        "# vectorizer = CountVectorizer()\n",
        "vectorizer.fit(train_df['text'])\n",
        "X = vectorizer.transform(train_df['text'])"
      ]
    },
    {
      "cell_type": "code",
      "execution_count": 23,
      "metadata": {
        "id": "GpBV-asgV-Yb"
      },
      "outputs": [],
      "source": [
        "# le = LabelEncoder()\n",
        "# y = le.fit_transform(data['tags'])\n",
        "y = train_df['tags']\n",
        "# le.inverse_transform([0, 1, 2, 3, 4, 5])"
      ]
    },
    {
      "cell_type": "code",
      "execution_count": 24,
      "metadata": {
        "id": "YaWLwyE6Wcww"
      },
      "outputs": [],
      "source": [
        "# split train and test\n",
        "X_train, X_test, y_train, y_test = train_test_split(X, y, test_size=0.2, random_state=42)"
      ]
    },
    {
      "cell_type": "code",
      "execution_count": 25,
      "metadata": {
        "id": "Vwmcif3MZq57"
      },
      "outputs": [],
      "source": [
        "# Test different classifiers to find the best\n",
        "def run_model(model_name):\n",
        "  model=''\n",
        "  if model_name == 'Logistic Regression':\n",
        "    model = LogisticRegression()\n",
        "  elif model_name == 'Random Forest':\n",
        "    model = RandomForestClassifier(n_estimators=100 ,criterion='entropy' , random_state=0)\n",
        "  elif model_name == 'Multinomial Naive Bayes':\n",
        "    model = MultinomialNB(alpha=1.0,fit_prior=True)\n",
        "  elif model_name == 'Support Vector Classifer':\n",
        "    model = SVC(random_state=123)\n",
        "  elif model_name == 'Decision Tree Classifier':\n",
        "    model = DecisionTreeClassifier()\n",
        "  elif model_name == 'K Nearest Neighbour':\n",
        "    model = KNeighborsClassifier(n_neighbors=5 , metric= 'euclidean' , p = 4)\n",
        "  elif model_name == 'Gaussian Naive Bayes':\n",
        "    model = GaussianNB()\n",
        "\n",
        "  oneVsRest = OneVsRestClassifier(model)\n",
        "  oneVsRest.fit(X_train, y_train)\n",
        "  y_pred = oneVsRest.predict(X_test)\n",
        "\n",
        "  # Performance metrics\n",
        "  accuracy = round(accuracy_score(y_test, y_pred) * 100, 2)\n",
        "\n",
        "  # Get precision, recall, f1 scores\n",
        "  precision, recall, f1score, support = score(y_test, y_pred, average='micro')\n",
        "\n",
        "  print(f'Test Accuracy Score of Basic {model_name}: % {accuracy}')\n",
        "  print(f'Precision : {precision}')\n",
        "  print(f'Recall : {recall}')\n",
        "  print(f'F1-score : {f1score}')\n",
        "\n",
        "  # Add performance parameters to list\n",
        "  perform_list.append(dict([('Model', model_name),\n",
        "                            ('Test Accuracy', round(accuracy, 2)),\n",
        "                            ('Precision', round(precision, 2)),\n",
        "                            ('Recall', round(recall, 2)),\n",
        "                            ('F1', round(f1score, 2))]))"
      ]
    },
    {
      "cell_type": "code",
      "execution_count": 26,
      "metadata": {
        "id": "DDOuQycWaZFA"
      },
      "outputs": [],
      "source": [
        "# Create list of model and accuracy dicts\n",
        "perform_list = []"
      ]
    },
    {
      "cell_type": "code",
      "execution_count": 27,
      "metadata": {
        "id": "oCEtoOaBcE_n",
        "colab": {
          "base_uri": "https://localhost:8080/"
        },
        "outputId": "c071291a-ad12-41ea-ff27-a742e3bdc7b4"
      },
      "outputs": [
        {
          "output_type": "stream",
          "name": "stdout",
          "text": [
            "Test Accuracy Score of Basic Logistic Regression: % 81.98\n",
            "Precision : 0.8197896749521989\n",
            "Recall : 0.8197896749521989\n",
            "F1-score : 0.8197896749521989\n"
          ]
        }
      ],
      "source": [
        "run_model('Logistic Regression')"
      ]
    },
    {
      "cell_type": "code",
      "execution_count": 28,
      "metadata": {
        "id": "9BYQktUqcZ75",
        "colab": {
          "base_uri": "https://localhost:8080/"
        },
        "outputId": "60e83f28-4f7e-4b19-849d-f8f9a5552ad8"
      },
      "outputs": [
        {
          "output_type": "stream",
          "name": "stdout",
          "text": [
            "Test Accuracy Score of Basic Random Forest: % 84.32\n",
            "Precision : 0.8432122370936902\n",
            "Recall : 0.8432122370936902\n",
            "F1-score : 0.8432122370936903\n"
          ]
        }
      ],
      "source": [
        "run_model('Random Forest')"
      ]
    },
    {
      "cell_type": "code",
      "execution_count": 29,
      "metadata": {
        "id": "UCw9kvxYeNkm",
        "colab": {
          "base_uri": "https://localhost:8080/"
        },
        "outputId": "582f799f-f1f8-4fe5-b5ef-81e35708c18a"
      },
      "outputs": [
        {
          "output_type": "stream",
          "name": "stdout",
          "text": [
            "Test Accuracy Score of Basic Multinomial Naive Bayes: % 64.24\n",
            "Precision : 0.6424474187380497\n",
            "Recall : 0.6424474187380497\n",
            "F1-score : 0.6424474187380497\n"
          ]
        }
      ],
      "source": [
        "run_model('Multinomial Naive Bayes')"
      ]
    },
    {
      "cell_type": "code",
      "execution_count": 30,
      "metadata": {
        "colab": {
          "base_uri": "https://localhost:8080/"
        },
        "id": "LTemvk_GeRU0",
        "outputId": "80aaa835-e9ed-463f-826b-a90eb22f8ca9"
      },
      "outputs": [
        {
          "output_type": "stream",
          "name": "stdout",
          "text": [
            "Test Accuracy Score of Basic Support Vector Classifer: % 83.51\n",
            "Precision : 0.8350860420650096\n",
            "Recall : 0.8350860420650096\n",
            "F1-score : 0.8350860420650096\n"
          ]
        }
      ],
      "source": [
        "run_model('Support Vector Classifer')"
      ]
    },
    {
      "cell_type": "code",
      "execution_count": 31,
      "metadata": {
        "colab": {
          "base_uri": "https://localhost:8080/"
        },
        "id": "e4iXWuc8eU1b",
        "outputId": "c7ee5217-1902-4a12-b6b0-b58c9ea80f2b"
      },
      "outputs": [
        {
          "output_type": "stream",
          "name": "stdout",
          "text": [
            "Test Accuracy Score of Basic Decision Tree Classifier: % 69.89\n",
            "Precision : 0.6988527724665392\n",
            "Recall : 0.6988527724665392\n",
            "F1-score : 0.6988527724665392\n"
          ]
        }
      ],
      "source": [
        "run_model('Decision Tree Classifier')"
      ]
    },
    {
      "cell_type": "code",
      "execution_count": 32,
      "metadata": {
        "id": "yRF0jloTeYTD"
      },
      "outputs": [],
      "source": [
        "# takes a lot of time\n",
        "# run_model('K Nearest Neighbour')"
      ]
    },
    {
      "cell_type": "code",
      "execution_count": 33,
      "metadata": {
        "id": "M1P9ePAvecDC"
      },
      "outputs": [],
      "source": [
        "# run_model('Gaussian Naive Bayes')"
      ]
    },
    {
      "cell_type": "code",
      "execution_count": 34,
      "metadata": {
        "colab": {
          "base_uri": "https://localhost:8080/",
          "height": 206
        },
        "id": "ZwalAslCazsz",
        "outputId": "902dc898-8d87-417e-dbac-ce890e425824"
      },
      "outputs": [
        {
          "output_type": "execute_result",
          "data": {
            "text/plain": [
              "                      Model  Test Accuracy  Precision  Recall    F1\n",
              "0       Logistic Regression          81.98       0.82    0.82  0.82\n",
              "1             Random Forest          84.32       0.84    0.84  0.84\n",
              "2   Multinomial Naive Bayes          64.24       0.64    0.64  0.64\n",
              "3  Support Vector Classifer          83.51       0.84    0.84  0.84\n",
              "4  Decision Tree Classifier          69.89       0.70    0.70  0.70"
            ],
            "text/html": [
              "\n",
              "  <div id=\"df-c750dbe8-1f4a-4433-9af8-fe6b6af7b422\" class=\"colab-df-container\">\n",
              "    <div>\n",
              "<style scoped>\n",
              "    .dataframe tbody tr th:only-of-type {\n",
              "        vertical-align: middle;\n",
              "    }\n",
              "\n",
              "    .dataframe tbody tr th {\n",
              "        vertical-align: top;\n",
              "    }\n",
              "\n",
              "    .dataframe thead th {\n",
              "        text-align: right;\n",
              "    }\n",
              "</style>\n",
              "<table border=\"1\" class=\"dataframe\">\n",
              "  <thead>\n",
              "    <tr style=\"text-align: right;\">\n",
              "      <th></th>\n",
              "      <th>Model</th>\n",
              "      <th>Test Accuracy</th>\n",
              "      <th>Precision</th>\n",
              "      <th>Recall</th>\n",
              "      <th>F1</th>\n",
              "    </tr>\n",
              "  </thead>\n",
              "  <tbody>\n",
              "    <tr>\n",
              "      <th>0</th>\n",
              "      <td>Logistic Regression</td>\n",
              "      <td>81.98</td>\n",
              "      <td>0.82</td>\n",
              "      <td>0.82</td>\n",
              "      <td>0.82</td>\n",
              "    </tr>\n",
              "    <tr>\n",
              "      <th>1</th>\n",
              "      <td>Random Forest</td>\n",
              "      <td>84.32</td>\n",
              "      <td>0.84</td>\n",
              "      <td>0.84</td>\n",
              "      <td>0.84</td>\n",
              "    </tr>\n",
              "    <tr>\n",
              "      <th>2</th>\n",
              "      <td>Multinomial Naive Bayes</td>\n",
              "      <td>64.24</td>\n",
              "      <td>0.64</td>\n",
              "      <td>0.64</td>\n",
              "      <td>0.64</td>\n",
              "    </tr>\n",
              "    <tr>\n",
              "      <th>3</th>\n",
              "      <td>Support Vector Classifer</td>\n",
              "      <td>83.51</td>\n",
              "      <td>0.84</td>\n",
              "      <td>0.84</td>\n",
              "      <td>0.84</td>\n",
              "    </tr>\n",
              "    <tr>\n",
              "      <th>4</th>\n",
              "      <td>Decision Tree Classifier</td>\n",
              "      <td>69.89</td>\n",
              "      <td>0.70</td>\n",
              "      <td>0.70</td>\n",
              "      <td>0.70</td>\n",
              "    </tr>\n",
              "  </tbody>\n",
              "</table>\n",
              "</div>\n",
              "    <div class=\"colab-df-buttons\">\n",
              "\n",
              "  <div class=\"colab-df-container\">\n",
              "    <button class=\"colab-df-convert\" onclick=\"convertToInteractive('df-c750dbe8-1f4a-4433-9af8-fe6b6af7b422')\"\n",
              "            title=\"Convert this dataframe to an interactive table.\"\n",
              "            style=\"display:none;\">\n",
              "\n",
              "  <svg xmlns=\"http://www.w3.org/2000/svg\" height=\"24px\" viewBox=\"0 -960 960 960\">\n",
              "    <path d=\"M120-120v-720h720v720H120Zm60-500h600v-160H180v160Zm220 220h160v-160H400v160Zm0 220h160v-160H400v160ZM180-400h160v-160H180v160Zm440 0h160v-160H620v160ZM180-180h160v-160H180v160Zm440 0h160v-160H620v160Z\"/>\n",
              "  </svg>\n",
              "    </button>\n",
              "\n",
              "  <style>\n",
              "    .colab-df-container {\n",
              "      display:flex;\n",
              "      gap: 12px;\n",
              "    }\n",
              "\n",
              "    .colab-df-convert {\n",
              "      background-color: #E8F0FE;\n",
              "      border: none;\n",
              "      border-radius: 50%;\n",
              "      cursor: pointer;\n",
              "      display: none;\n",
              "      fill: #1967D2;\n",
              "      height: 32px;\n",
              "      padding: 0 0 0 0;\n",
              "      width: 32px;\n",
              "    }\n",
              "\n",
              "    .colab-df-convert:hover {\n",
              "      background-color: #E2EBFA;\n",
              "      box-shadow: 0px 1px 2px rgba(60, 64, 67, 0.3), 0px 1px 3px 1px rgba(60, 64, 67, 0.15);\n",
              "      fill: #174EA6;\n",
              "    }\n",
              "\n",
              "    .colab-df-buttons div {\n",
              "      margin-bottom: 4px;\n",
              "    }\n",
              "\n",
              "    [theme=dark] .colab-df-convert {\n",
              "      background-color: #3B4455;\n",
              "      fill: #D2E3FC;\n",
              "    }\n",
              "\n",
              "    [theme=dark] .colab-df-convert:hover {\n",
              "      background-color: #434B5C;\n",
              "      box-shadow: 0px 1px 3px 1px rgba(0, 0, 0, 0.15);\n",
              "      filter: drop-shadow(0px 1px 2px rgba(0, 0, 0, 0.3));\n",
              "      fill: #FFFFFF;\n",
              "    }\n",
              "  </style>\n",
              "\n",
              "    <script>\n",
              "      const buttonEl =\n",
              "        document.querySelector('#df-c750dbe8-1f4a-4433-9af8-fe6b6af7b422 button.colab-df-convert');\n",
              "      buttonEl.style.display =\n",
              "        google.colab.kernel.accessAllowed ? 'block' : 'none';\n",
              "\n",
              "      async function convertToInteractive(key) {\n",
              "        const element = document.querySelector('#df-c750dbe8-1f4a-4433-9af8-fe6b6af7b422');\n",
              "        const dataTable =\n",
              "          await google.colab.kernel.invokeFunction('convertToInteractive',\n",
              "                                                    [key], {});\n",
              "        if (!dataTable) return;\n",
              "\n",
              "        const docLinkHtml = 'Like what you see? Visit the ' +\n",
              "          '<a target=\"_blank\" href=https://colab.research.google.com/notebooks/data_table.ipynb>data table notebook</a>'\n",
              "          + ' to learn more about interactive tables.';\n",
              "        element.innerHTML = '';\n",
              "        dataTable['output_type'] = 'display_data';\n",
              "        await google.colab.output.renderOutput(dataTable, element);\n",
              "        const docLink = document.createElement('div');\n",
              "        docLink.innerHTML = docLinkHtml;\n",
              "        element.appendChild(docLink);\n",
              "      }\n",
              "    </script>\n",
              "  </div>\n",
              "\n",
              "\n",
              "<div id=\"df-100ae08d-4470-4305-9ea9-68f9693f36c2\">\n",
              "  <button class=\"colab-df-quickchart\" onclick=\"quickchart('df-100ae08d-4470-4305-9ea9-68f9693f36c2')\"\n",
              "            title=\"Suggest charts\"\n",
              "            style=\"display:none;\">\n",
              "\n",
              "<svg xmlns=\"http://www.w3.org/2000/svg\" height=\"24px\"viewBox=\"0 0 24 24\"\n",
              "     width=\"24px\">\n",
              "    <g>\n",
              "        <path d=\"M19 3H5c-1.1 0-2 .9-2 2v14c0 1.1.9 2 2 2h14c1.1 0 2-.9 2-2V5c0-1.1-.9-2-2-2zM9 17H7v-7h2v7zm4 0h-2V7h2v10zm4 0h-2v-4h2v4z\"/>\n",
              "    </g>\n",
              "</svg>\n",
              "  </button>\n",
              "\n",
              "<style>\n",
              "  .colab-df-quickchart {\n",
              "      --bg-color: #E8F0FE;\n",
              "      --fill-color: #1967D2;\n",
              "      --hover-bg-color: #E2EBFA;\n",
              "      --hover-fill-color: #174EA6;\n",
              "      --disabled-fill-color: #AAA;\n",
              "      --disabled-bg-color: #DDD;\n",
              "  }\n",
              "\n",
              "  [theme=dark] .colab-df-quickchart {\n",
              "      --bg-color: #3B4455;\n",
              "      --fill-color: #D2E3FC;\n",
              "      --hover-bg-color: #434B5C;\n",
              "      --hover-fill-color: #FFFFFF;\n",
              "      --disabled-bg-color: #3B4455;\n",
              "      --disabled-fill-color: #666;\n",
              "  }\n",
              "\n",
              "  .colab-df-quickchart {\n",
              "    background-color: var(--bg-color);\n",
              "    border: none;\n",
              "    border-radius: 50%;\n",
              "    cursor: pointer;\n",
              "    display: none;\n",
              "    fill: var(--fill-color);\n",
              "    height: 32px;\n",
              "    padding: 0;\n",
              "    width: 32px;\n",
              "  }\n",
              "\n",
              "  .colab-df-quickchart:hover {\n",
              "    background-color: var(--hover-bg-color);\n",
              "    box-shadow: 0 1px 2px rgba(60, 64, 67, 0.3), 0 1px 3px 1px rgba(60, 64, 67, 0.15);\n",
              "    fill: var(--button-hover-fill-color);\n",
              "  }\n",
              "\n",
              "  .colab-df-quickchart-complete:disabled,\n",
              "  .colab-df-quickchart-complete:disabled:hover {\n",
              "    background-color: var(--disabled-bg-color);\n",
              "    fill: var(--disabled-fill-color);\n",
              "    box-shadow: none;\n",
              "  }\n",
              "\n",
              "  .colab-df-spinner {\n",
              "    border: 2px solid var(--fill-color);\n",
              "    border-color: transparent;\n",
              "    border-bottom-color: var(--fill-color);\n",
              "    animation:\n",
              "      spin 1s steps(1) infinite;\n",
              "  }\n",
              "\n",
              "  @keyframes spin {\n",
              "    0% {\n",
              "      border-color: transparent;\n",
              "      border-bottom-color: var(--fill-color);\n",
              "      border-left-color: var(--fill-color);\n",
              "    }\n",
              "    20% {\n",
              "      border-color: transparent;\n",
              "      border-left-color: var(--fill-color);\n",
              "      border-top-color: var(--fill-color);\n",
              "    }\n",
              "    30% {\n",
              "      border-color: transparent;\n",
              "      border-left-color: var(--fill-color);\n",
              "      border-top-color: var(--fill-color);\n",
              "      border-right-color: var(--fill-color);\n",
              "    }\n",
              "    40% {\n",
              "      border-color: transparent;\n",
              "      border-right-color: var(--fill-color);\n",
              "      border-top-color: var(--fill-color);\n",
              "    }\n",
              "    60% {\n",
              "      border-color: transparent;\n",
              "      border-right-color: var(--fill-color);\n",
              "    }\n",
              "    80% {\n",
              "      border-color: transparent;\n",
              "      border-right-color: var(--fill-color);\n",
              "      border-bottom-color: var(--fill-color);\n",
              "    }\n",
              "    90% {\n",
              "      border-color: transparent;\n",
              "      border-bottom-color: var(--fill-color);\n",
              "    }\n",
              "  }\n",
              "</style>\n",
              "\n",
              "  <script>\n",
              "    async function quickchart(key) {\n",
              "      const quickchartButtonEl =\n",
              "        document.querySelector('#' + key + ' button');\n",
              "      quickchartButtonEl.disabled = true;  // To prevent multiple clicks.\n",
              "      quickchartButtonEl.classList.add('colab-df-spinner');\n",
              "      try {\n",
              "        const charts = await google.colab.kernel.invokeFunction(\n",
              "            'suggestCharts', [key], {});\n",
              "      } catch (error) {\n",
              "        console.error('Error during call to suggestCharts:', error);\n",
              "      }\n",
              "      quickchartButtonEl.classList.remove('colab-df-spinner');\n",
              "      quickchartButtonEl.classList.add('colab-df-quickchart-complete');\n",
              "    }\n",
              "    (() => {\n",
              "      let quickchartButtonEl =\n",
              "        document.querySelector('#df-100ae08d-4470-4305-9ea9-68f9693f36c2 button');\n",
              "      quickchartButtonEl.style.display =\n",
              "        google.colab.kernel.accessAllowed ? 'block' : 'none';\n",
              "    })();\n",
              "  </script>\n",
              "</div>\n",
              "    </div>\n",
              "  </div>\n"
            ],
            "application/vnd.google.colaboratory.intrinsic+json": {
              "type": "dataframe",
              "variable_name": "model_performance",
              "summary": "{\n  \"name\": \"model_performance\",\n  \"rows\": 5,\n  \"fields\": [\n    {\n      \"column\": \"Model\",\n      \"properties\": {\n        \"dtype\": \"string\",\n        \"num_unique_values\": 5,\n        \"samples\": [\n          \"Random Forest\",\n          \"Decision Tree Classifier\",\n          \"Multinomial Naive Bayes\"\n        ],\n        \"semantic_type\": \"\",\n        \"description\": \"\"\n      }\n    },\n    {\n      \"column\": \"Test Accuracy\",\n      \"properties\": {\n        \"dtype\": \"number\",\n        \"std\": 9.136573208813031,\n        \"min\": 64.24,\n        \"max\": 84.32,\n        \"num_unique_values\": 5,\n        \"samples\": [\n          84.32,\n          69.89,\n          64.24\n        ],\n        \"semantic_type\": \"\",\n        \"description\": \"\"\n      }\n    },\n    {\n      \"column\": \"Precision\",\n      \"properties\": {\n        \"dtype\": \"number\",\n        \"std\": 0.0923038460737146,\n        \"min\": 0.64,\n        \"max\": 0.84,\n        \"num_unique_values\": 4,\n        \"samples\": [\n          0.84,\n          0.7,\n          0.82\n        ],\n        \"semantic_type\": \"\",\n        \"description\": \"\"\n      }\n    },\n    {\n      \"column\": \"Recall\",\n      \"properties\": {\n        \"dtype\": \"number\",\n        \"std\": 0.0923038460737146,\n        \"min\": 0.64,\n        \"max\": 0.84,\n        \"num_unique_values\": 4,\n        \"samples\": [\n          0.84,\n          0.7,\n          0.82\n        ],\n        \"semantic_type\": \"\",\n        \"description\": \"\"\n      }\n    },\n    {\n      \"column\": \"F1\",\n      \"properties\": {\n        \"dtype\": \"number\",\n        \"std\": 0.0923038460737146,\n        \"min\": 0.64,\n        \"max\": 0.84,\n        \"num_unique_values\": 4,\n        \"samples\": [\n          0.84,\n          0.7,\n          0.82\n        ],\n        \"semantic_type\": \"\",\n        \"description\": \"\"\n      }\n    }\n  ]\n}"
            }
          },
          "metadata": {},
          "execution_count": 34
        }
      ],
      "source": [
        "# Compare the results of different models\n",
        "model_performance = pd.DataFrame(data=perform_list)\n",
        "model_performance = model_performance[['Model', 'Test Accuracy', 'Precision', 'Recall', 'F1']]\n",
        "model_performance"
      ]
    },
    {
      "cell_type": "code",
      "execution_count": 35,
      "metadata": {
        "id": "feRrqvZ0lvEs",
        "colab": {
          "base_uri": "https://localhost:8080/"
        },
        "outputId": "cde9f37c-c44a-4d1d-d133-b09754ab7d37"
      },
      "outputs": [
        {
          "output_type": "stream",
          "name": "stdout",
          "text": [
            "Fitting 5 folds for each of 9 candidates, totalling 45 fits\n",
            "[CV 1/5] END ..........C=1, gamma=1, kernel=rbf;, score=0.834 total time= 1.1min\n",
            "[CV 2/5] END ..........C=1, gamma=1, kernel=rbf;, score=0.827 total time= 1.1min\n",
            "[CV 3/5] END ..........C=1, gamma=1, kernel=rbf;, score=0.831 total time= 1.0min\n",
            "[CV 4/5] END ..........C=1, gamma=1, kernel=rbf;, score=0.834 total time= 1.0min\n",
            "[CV 5/5] END ..........C=1, gamma=1, kernel=rbf;, score=0.829 total time= 1.1min\n",
            "[CV 1/5] END ........C=1, gamma=0.1, kernel=rbf;, score=0.775 total time=  50.3s\n",
            "[CV 2/5] END ........C=1, gamma=0.1, kernel=rbf;, score=0.764 total time=  50.2s\n",
            "[CV 3/5] END ........C=1, gamma=0.1, kernel=rbf;, score=0.778 total time=  49.7s\n",
            "[CV 4/5] END ........C=1, gamma=0.1, kernel=rbf;, score=0.759 total time=  50.7s\n",
            "[CV 5/5] END ........C=1, gamma=0.1, kernel=rbf;, score=0.759 total time=  49.8s\n",
            "[CV 1/5] END .......C=1, gamma=0.01, kernel=rbf;, score=0.539 total time= 1.1min\n",
            "[CV 2/5] END .......C=1, gamma=0.01, kernel=rbf;, score=0.540 total time= 1.1min\n",
            "[CV 3/5] END .......C=1, gamma=0.01, kernel=rbf;, score=0.545 total time= 1.1min\n",
            "[CV 4/5] END .......C=1, gamma=0.01, kernel=rbf;, score=0.542 total time= 1.1min\n",
            "[CV 5/5] END .......C=1, gamma=0.01, kernel=rbf;, score=0.535 total time= 1.1min\n",
            "[CV 1/5] END .........C=10, gamma=1, kernel=rbf;, score=0.848 total time= 1.4min\n",
            "[CV 2/5] END .........C=10, gamma=1, kernel=rbf;, score=0.840 total time= 1.3min\n",
            "[CV 3/5] END .........C=10, gamma=1, kernel=rbf;, score=0.842 total time= 1.3min\n",
            "[CV 4/5] END .........C=10, gamma=1, kernel=rbf;, score=0.846 total time= 1.4min\n",
            "[CV 5/5] END .........C=10, gamma=1, kernel=rbf;, score=0.846 total time= 1.3min\n",
            "[CV 1/5] END .......C=10, gamma=0.1, kernel=rbf;, score=0.860 total time=  40.4s\n",
            "[CV 2/5] END .......C=10, gamma=0.1, kernel=rbf;, score=0.847 total time=  39.7s\n",
            "[CV 3/5] END .......C=10, gamma=0.1, kernel=rbf;, score=0.850 total time=  40.1s\n",
            "[CV 4/5] END .......C=10, gamma=0.1, kernel=rbf;, score=0.852 total time=  39.9s\n",
            "[CV 5/5] END .......C=10, gamma=0.1, kernel=rbf;, score=0.852 total time=  39.6s\n",
            "[CV 1/5] END ......C=10, gamma=0.01, kernel=rbf;, score=0.789 total time=  49.0s\n",
            "[CV 2/5] END ......C=10, gamma=0.01, kernel=rbf;, score=0.775 total time=  47.7s\n",
            "[CV 3/5] END ......C=10, gamma=0.01, kernel=rbf;, score=0.790 total time=  48.0s\n",
            "[CV 4/5] END ......C=10, gamma=0.01, kernel=rbf;, score=0.776 total time=  48.4s\n",
            "[CV 5/5] END ......C=10, gamma=0.01, kernel=rbf;, score=0.775 total time=  47.8s\n",
            "[CV 1/5] END ........C=100, gamma=1, kernel=rbf;, score=0.848 total time= 1.4min\n",
            "[CV 2/5] END ........C=100, gamma=1, kernel=rbf;, score=0.840 total time= 1.4min\n",
            "[CV 3/5] END ........C=100, gamma=1, kernel=rbf;, score=0.842 total time= 1.3min\n",
            "[CV 4/5] END ........C=100, gamma=1, kernel=rbf;, score=0.846 total time= 1.4min\n",
            "[CV 5/5] END ........C=100, gamma=1, kernel=rbf;, score=0.846 total time= 1.4min\n",
            "[CV 1/5] END ......C=100, gamma=0.1, kernel=rbf;, score=0.855 total time=  40.2s\n",
            "[CV 2/5] END ......C=100, gamma=0.1, kernel=rbf;, score=0.839 total time=  39.8s\n",
            "[CV 3/5] END ......C=100, gamma=0.1, kernel=rbf;, score=0.843 total time=  40.2s\n",
            "[CV 4/5] END ......C=100, gamma=0.1, kernel=rbf;, score=0.848 total time=  40.6s\n",
            "[CV 5/5] END ......C=100, gamma=0.1, kernel=rbf;, score=0.848 total time=  40.9s\n",
            "[CV 1/5] END .....C=100, gamma=0.01, kernel=rbf;, score=0.859 total time=  37.4s\n",
            "[CV 2/5] END .....C=100, gamma=0.01, kernel=rbf;, score=0.846 total time=  37.7s\n",
            "[CV 3/5] END .....C=100, gamma=0.01, kernel=rbf;, score=0.849 total time=  38.7s\n",
            "[CV 4/5] END .....C=100, gamma=0.01, kernel=rbf;, score=0.851 total time=  37.4s\n",
            "[CV 5/5] END .....C=100, gamma=0.01, kernel=rbf;, score=0.850 total time=  38.6s\n",
            "              precision    recall  f1-score   support\n",
            "\n",
            "           0       0.75      0.76      0.76       308\n",
            "           1       0.79      0.80      0.80       174\n",
            "           2       0.78      0.66      0.72       116\n",
            "           3       0.88      0.88      0.88       653\n",
            "           4       0.86      0.88      0.87       809\n",
            "           5       0.96      0.75      0.84        32\n",
            "\n",
            "    accuracy                           0.84      2092\n",
            "   macro avg       0.84      0.79      0.81      2092\n",
            "weighted avg       0.84      0.84      0.84      2092\n",
            "\n"
          ]
        }
      ],
      "source": [
        "# defining parameter range for SVC\n",
        "# 10, 0.1\n",
        "param_grid = {'C': [1, 10, 100],\n",
        "              'gamma': [1, 0.1, 0.01],\n",
        "              'kernel': ['rbf']}\n",
        "\n",
        "grid = GridSearchCV(SVC(), param_grid, refit = True, verbose = 3)\n",
        "\n",
        "# fitting the model for grid search\n",
        "grid.fit(X_train, y_train)\n",
        "y_pred = grid.predict(X_test)\n",
        "print(classification_report(y_test, y_pred))"
      ]
    },
    {
      "cell_type": "code",
      "execution_count": 36,
      "metadata": {
        "id": "WAhAfZL_Hxtf",
        "colab": {
          "base_uri": "https://localhost:8080/"
        },
        "outputId": "eece6c24-21d7-42b1-ce5e-697558503a2f"
      },
      "outputs": [
        {
          "output_type": "stream",
          "name": "stdout",
          "text": [
            "SVC(C=10, gamma=0.1)\n"
          ]
        }
      ],
      "source": [
        "print(grid.best_estimator_)"
      ]
    },
    {
      "cell_type": "code",
      "execution_count": 37,
      "metadata": {
        "id": "LzFvzLK1X87_",
        "colab": {
          "base_uri": "https://localhost:8080/",
          "height": 74
        },
        "outputId": "a65e388a-04c2-4a7a-d8e4-5afad14b851d"
      },
      "outputs": [
        {
          "output_type": "execute_result",
          "data": {
            "text/plain": [
              "SVC(C=10, gamma=0.1, random_state=123)"
            ],
            "text/html": [
              "<style>#sk-container-id-1 {color: black;background-color: white;}#sk-container-id-1 pre{padding: 0;}#sk-container-id-1 div.sk-toggleable {background-color: white;}#sk-container-id-1 label.sk-toggleable__label {cursor: pointer;display: block;width: 100%;margin-bottom: 0;padding: 0.3em;box-sizing: border-box;text-align: center;}#sk-container-id-1 label.sk-toggleable__label-arrow:before {content: \"▸\";float: left;margin-right: 0.25em;color: #696969;}#sk-container-id-1 label.sk-toggleable__label-arrow:hover:before {color: black;}#sk-container-id-1 div.sk-estimator:hover label.sk-toggleable__label-arrow:before {color: black;}#sk-container-id-1 div.sk-toggleable__content {max-height: 0;max-width: 0;overflow: hidden;text-align: left;background-color: #f0f8ff;}#sk-container-id-1 div.sk-toggleable__content pre {margin: 0.2em;color: black;border-radius: 0.25em;background-color: #f0f8ff;}#sk-container-id-1 input.sk-toggleable__control:checked~div.sk-toggleable__content {max-height: 200px;max-width: 100%;overflow: auto;}#sk-container-id-1 input.sk-toggleable__control:checked~label.sk-toggleable__label-arrow:before {content: \"▾\";}#sk-container-id-1 div.sk-estimator input.sk-toggleable__control:checked~label.sk-toggleable__label {background-color: #d4ebff;}#sk-container-id-1 div.sk-label input.sk-toggleable__control:checked~label.sk-toggleable__label {background-color: #d4ebff;}#sk-container-id-1 input.sk-hidden--visually {border: 0;clip: rect(1px 1px 1px 1px);clip: rect(1px, 1px, 1px, 1px);height: 1px;margin: -1px;overflow: hidden;padding: 0;position: absolute;width: 1px;}#sk-container-id-1 div.sk-estimator {font-family: monospace;background-color: #f0f8ff;border: 1px dotted black;border-radius: 0.25em;box-sizing: border-box;margin-bottom: 0.5em;}#sk-container-id-1 div.sk-estimator:hover {background-color: #d4ebff;}#sk-container-id-1 div.sk-parallel-item::after {content: \"\";width: 100%;border-bottom: 1px solid gray;flex-grow: 1;}#sk-container-id-1 div.sk-label:hover label.sk-toggleable__label {background-color: #d4ebff;}#sk-container-id-1 div.sk-serial::before {content: \"\";position: absolute;border-left: 1px solid gray;box-sizing: border-box;top: 0;bottom: 0;left: 50%;z-index: 0;}#sk-container-id-1 div.sk-serial {display: flex;flex-direction: column;align-items: center;background-color: white;padding-right: 0.2em;padding-left: 0.2em;position: relative;}#sk-container-id-1 div.sk-item {position: relative;z-index: 1;}#sk-container-id-1 div.sk-parallel {display: flex;align-items: stretch;justify-content: center;background-color: white;position: relative;}#sk-container-id-1 div.sk-item::before, #sk-container-id-1 div.sk-parallel-item::before {content: \"\";position: absolute;border-left: 1px solid gray;box-sizing: border-box;top: 0;bottom: 0;left: 50%;z-index: -1;}#sk-container-id-1 div.sk-parallel-item {display: flex;flex-direction: column;z-index: 1;position: relative;background-color: white;}#sk-container-id-1 div.sk-parallel-item:first-child::after {align-self: flex-end;width: 50%;}#sk-container-id-1 div.sk-parallel-item:last-child::after {align-self: flex-start;width: 50%;}#sk-container-id-1 div.sk-parallel-item:only-child::after {width: 0;}#sk-container-id-1 div.sk-dashed-wrapped {border: 1px dashed gray;margin: 0 0.4em 0.5em 0.4em;box-sizing: border-box;padding-bottom: 0.4em;background-color: white;}#sk-container-id-1 div.sk-label label {font-family: monospace;font-weight: bold;display: inline-block;line-height: 1.2em;}#sk-container-id-1 div.sk-label-container {text-align: center;}#sk-container-id-1 div.sk-container {/* jupyter's `normalize.less` sets `[hidden] { display: none; }` but bootstrap.min.css set `[hidden] { display: none !important; }` so we also need the `!important` here to be able to override the default hidden behavior on the sphinx rendered scikit-learn.org. See: https://github.com/scikit-learn/scikit-learn/issues/21755 */display: inline-block !important;position: relative;}#sk-container-id-1 div.sk-text-repr-fallback {display: none;}</style><div id=\"sk-container-id-1\" class=\"sk-top-container\"><div class=\"sk-text-repr-fallback\"><pre>SVC(C=10, gamma=0.1, random_state=123)</pre><b>In a Jupyter environment, please rerun this cell to show the HTML representation or trust the notebook. <br />On GitHub, the HTML representation is unable to render, please try loading this page with nbviewer.org.</b></div><div class=\"sk-container\" hidden><div class=\"sk-item\"><div class=\"sk-estimator sk-toggleable\"><input class=\"sk-toggleable__control sk-hidden--visually\" id=\"sk-estimator-id-1\" type=\"checkbox\" checked><label for=\"sk-estimator-id-1\" class=\"sk-toggleable__label sk-toggleable__label-arrow\">SVC</label><div class=\"sk-toggleable__content\"><pre>SVC(C=10, gamma=0.1, random_state=123)</pre></div></div></div></div></div>"
            ]
          },
          "metadata": {},
          "execution_count": 37
        }
      ],
      "source": [
        "classifier = SVC(random_state=123, C=10, gamma=0.1)\n",
        "classifier.fit(X_train, y_train)\n",
        "# print(le.inverse_transform([y_test[4]]))\n",
        "# le.inverse_transform([svc.predict(X_test[4])])"
      ]
    },
    {
      "cell_type": "code",
      "execution_count": 38,
      "metadata": {
        "id": "vE-yeXEhYSZ6",
        "colab": {
          "base_uri": "https://localhost:8080/"
        },
        "outputId": "7a87f743-2f6e-4983-e025-cf45766eb681"
      },
      "outputs": [
        {
          "output_type": "stream",
          "name": "stdout",
          "text": [
            "              precision    recall  f1-score   support\n",
            "\n",
            "           0       0.75      0.76      0.76       308\n",
            "           1       0.79      0.80      0.80       174\n",
            "           2       0.78      0.66      0.72       116\n",
            "           3       0.88      0.88      0.88       653\n",
            "           4       0.86      0.88      0.87       809\n",
            "           5       0.96      0.75      0.84        32\n",
            "\n",
            "    accuracy                           0.84      2092\n",
            "   macro avg       0.84      0.79      0.81      2092\n",
            "weighted avg       0.84      0.84      0.84      2092\n",
            "\n"
          ]
        }
      ],
      "source": [
        "y_pred = classifier.predict(X_test)\n",
        "print(classification_report(y_test, y_pred))"
      ]
    },
    {
      "cell_type": "code",
      "execution_count": 39,
      "metadata": {
        "id": "zqNc7RthEZu3",
        "colab": {
          "base_uri": "https://localhost:8080/"
        },
        "outputId": "5bb7998a-9c52-456e-f6fe-73efc4e58a01"
      },
      "outputs": [
        {
          "output_type": "stream",
          "name": "stdout",
          "text": [
            "                                               title  \\\n",
            "0  درگیر شایعات نشوید؛ نتیجه آزمایش افراد مشکوک ب...   \n",
            "1  تخریب منازل «علی‌آباد» خرم‌آباد در پی بارش بار...   \n",
            "2  ‌اختصاصی| قرنطینه آیت‌الله شبیری‌زنجانی صحت ند...   \n",
            "3  احتمال طغیان رودخانه‌های غرب کشور/ کاهش شدت با...   \n",
            "4  تحویل طومار مردم تهران برای پیگرد عاملان ترور ...   \n",
            "\n",
            "                                         description  \n",
            "0  گروه استان‌ها- رئیس دانشگاه علوم پزشکی استان ا...  \n",
            "1  گروه استان‌ها ـبارش‌های سیل‌آسا که از روز گذشت...  \n",
            "2  گروه استان‌ها ـ مسئول دفتر آیت الله شبیری زنجا...  \n",
            "3  رئیس سازمان هواشناسی از احتمال طغیان اغلب رودخ...  \n",
            "4  طومار امضا شده توسط هزاران تن از مردم تهران در...  \n"
          ]
        }
      ],
      "source": [
        "test_df = pd.read_csv('/content/drive/MyDrive/AI_4022/data/test_data.csv')\n",
        "print(test_df.head())"
      ]
    },
    {
      "cell_type": "code",
      "execution_count": 40,
      "metadata": {
        "id": "7OguRqlTFKBI",
        "colab": {
          "base_uri": "https://localhost:8080/"
        },
        "outputId": "24cd288d-686f-4785-c7c4-265ee709828f"
      },
      "outputs": [
        {
          "output_type": "stream",
          "name": "stdout",
          "text": [
            "                                                 title  \\\n",
            "0    درگیر شایع شد#شو ؛ نتیجه آزما مشکوک کرونا ایلا...   \n",
            "1         تخریب منازل « علی‌آباد » خرم‌آباد روا تصاویر   \n",
            "2               اختصاص قرنطینه آیت‌الله شبیری‌زنجان صح   \n",
            "3    احتمال طغ رودخانه غرب کشور کاه بارش تهر ظهر امروز   \n",
            "4    تحویل طومار مرد تهر پیگرد عامل ترور شهید سلیما...   \n",
            "..                                                 ...   \n",
            "995      جو بایدن بسیج وکلا دعوا حقوق انتخاب آماد#آمای   \n",
            "996            کاه ۹۶ درصد مسافر بین‌الملل صنع هوا ایر   \n",
            "997    امار متحده عرب سال ۲۰۱۴ فضاپیما ماه فرستاد#فرست   \n",
            "998     کیو خسرو به‌دلیل ملاحظ امنیت حادثه نطنز ز اعلا   \n",
            "999       گروه ناشناس مسئول « حمله تاسیس نطنز » برعهده   \n",
            "\n",
            "                                           description  \\\n",
            "0    گروه استان رئیس دانشگاه علو پزشک اس ایلا منف ن...   \n",
            "1    گروه استان بارش سیل‌آسا روز گذشته لرس آغاز ، م...   \n",
            "2    گروه استان مسئول دف آیت‌الله شبیر زنجان آیت‌ال...   \n",
            "3    رئیس هواشناس احتمال طغ رودخانه غرب کشور خبر گف...   \n",
            "4    طومار امضا توسط هزار تن مرد تهر حاشیه راهپیما ...   \n",
            "..                                                 ...   \n",
            "995  کارزار انتخابات جو بایدن مشغول جمع‌آور ارتش بی...   \n",
            "996  مدیر عامل شرک فرودگاه ناوبر هوا ایر مسافر پروا...   \n",
            "997  نخست‌وزیر نایب‌رئیس امار متحده عرب کشور قصد سا...   \n",
            "998  کیو خسروی٬ سخنگو شورا امن مل ایر گفته_اس ، دلی...   \n",
            "999  شبکه تلویزیون بی‌بی‌س فارس ساعات انتشار خبر وق...   \n",
            "\n",
            "                                                  text  \n",
            "0    درگیر شایع شد#شو ؛ نتیجه آزما مشکوک کرونا ایلا...  \n",
            "1    تخریب منازل « علی‌آباد » خرم‌آباد روا تصاویر ت...  \n",
            "2    اختصاص قرنطینه آیت‌الله شبیری‌زنجان صح اختصاص ...  \n",
            "3    احتمال طغ رودخانه غرب کشور کاه بارش تهر ظهر ام...  \n",
            "4    تحویل طومار مرد تهر پیگرد عامل ترور شهید سلیما...  \n",
            "..                                                 ...  \n",
            "995  جو بایدن بسیج وکلا دعوا حقوق انتخاب آماد#آمای ...  \n",
            "996  کاه ۹۶ درصد مسافر بین‌الملل صنع هوا ایر کاه ۹۶...  \n",
            "997  امار متحده عرب سال ۲۰۱۴ فضاپیما ماه فرستاد#فرس...  \n",
            "998  کیو خسرو به‌دلیل ملاحظ امنیت حادثه نطنز ز اعلا...  \n",
            "999  گروه ناشناس مسئول « حمله تاسیس نطنز » برعهده گ...  \n",
            "\n",
            "[1000 rows x 3 columns]\n"
          ]
        }
      ],
      "source": [
        "# preprocess test data\n",
        "test_df['title'] = test_df['title'].apply(preprocess)\n",
        "test_df['description'] = test_df['description'].apply(preprocess)\n",
        "test_df['text'] = test_df['title'] + ' ' + test_df['title'] + ' ' + test_df['description']\n",
        "X_test_df = vectorizer.transform(test_df['text'])\n",
        "print(test_df)"
      ]
    },
    {
      "cell_type": "code",
      "execution_count": 41,
      "metadata": {
        "id": "jjMOntBwV8NP",
        "colab": {
          "base_uri": "https://localhost:8080/"
        },
        "outputId": "ec224818-c1cd-4449-8c23-7df6dd7f69f3"
      },
      "outputs": [
        {
          "output_type": "stream",
          "name": "stdout",
          "text": [
            "(2092,)\n"
          ]
        }
      ],
      "source": [
        "print(y_pred.shape)\n",
        "# use the model with best accuracy\n",
        "y_pred_test_df = classifier.predict(X_test_df)"
      ]
    },
    {
      "cell_type": "code",
      "execution_count": 42,
      "metadata": {
        "id": "yU9QupMbU1MN"
      },
      "outputs": [],
      "source": [
        "test_df['prediction'] = y_pred_test_df\n",
        "# df = pd.DataFrame({'prediction':y_pred_test_df})\n",
        "# print(df.head())\n",
        "\n",
        "# save the result dataframe as a CSV file\n",
        "submission_df = test_df[['prediction']]\n",
        "# submission_df = df[['prediction']]\n",
        "submission_df.to_csv('submission.csv', index=False)"
      ]
    }
  ],
  "metadata": {
    "accelerator": "GPU",
    "colab": {
      "gpuType": "T4",
      "provenance": []
    },
    "kernelspec": {
      "display_name": "Python 3",
      "name": "python3"
    },
    "language_info": {
      "name": "python"
    }
  },
  "nbformat": 4,
  "nbformat_minor": 0
}